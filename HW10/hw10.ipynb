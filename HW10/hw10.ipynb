{
  "nbformat": 4,
  "nbformat_minor": 0,
  "metadata": {
    "colab": {
      "name": "copyhw10_adversarial_attack.ipynb",
      "provenance": [],
      "collapsed_sections": [],
      "toc_visible": true
    },
    "kernelspec": {
      "name": "python3",
      "display_name": "Python 3"
    },
    "accelerator": "GPU"
  },
  "cells": [
    {
      "cell_type": "markdown",
      "metadata": {
        "id": "Q-n2e0BkhEKS"
      },
      "source": [
        "# **Homework 10 - Adversarial Attack**\n",
        "\n",
        "Slides: https://reurl.cc/v5kXkk\n",
        "\n",
        "Videos:\n",
        "\n",
        "TA: ntu-ml-2021spring-ta@googlegroups.com"
      ]
    },
    {
      "cell_type": "markdown",
      "metadata": {
        "id": "9RX7iRXrhMA_"
      },
      "source": [
        "## Enviroment & Download\n",
        "\n",
        "We make use of [pytorchcv](https://pypi.org/project/pytorchcv/) to obtain CIFAR-10 pretrained model, so we need to set up the enviroment first. We also need to download the data (200 images) which we want to attack."
      ]
    },
    {
      "cell_type": "code",
      "metadata": {
        "id": "d4Lw7urignqP",
        "colab": {
          "base_uri": "https://localhost:8080/"
        },
        "outputId": "734ada40-c64c-44e9-a669-cda38b51fb40"
      },
      "source": [
        "# set up environment\n",
        "!pip install pytorchcv\n",
        "\n",
        "# download\n",
        "!gdown --id 1fHi1ko7wr80wXkXpqpqpOxuYH1mClXoX -O data.zip\n",
        "\n",
        "# unzip\n",
        "!unzip ./data.zip\n",
        "!rm ./data.zip"
      ],
      "execution_count": null,
      "outputs": [
        {
          "output_type": "stream",
          "text": [
            "Collecting pytorchcv\n",
            "\u001b[?25l  Downloading https://files.pythonhosted.org/packages/44/74/e5dae0875679d296fa9a3833041699cee9222e2d3dd1f9ae1ded050b5672/pytorchcv-0.0.65-py2.py3-none-any.whl (527kB)\n",
            "\u001b[K     |████████████████████████████████| 532kB 2.9MB/s \n",
            "\u001b[?25hRequirement already satisfied: requests in /usr/local/lib/python3.7/dist-packages (from pytorchcv) (2.23.0)\n",
            "Requirement already satisfied: numpy in /usr/local/lib/python3.7/dist-packages (from pytorchcv) (1.19.5)\n",
            "Requirement already satisfied: certifi>=2017.4.17 in /usr/local/lib/python3.7/dist-packages (from requests->pytorchcv) (2020.12.5)\n",
            "Requirement already satisfied: urllib3!=1.25.0,!=1.25.1,<1.26,>=1.21.1 in /usr/local/lib/python3.7/dist-packages (from requests->pytorchcv) (1.24.3)\n",
            "Requirement already satisfied: chardet<4,>=3.0.2 in /usr/local/lib/python3.7/dist-packages (from requests->pytorchcv) (3.0.4)\n",
            "Requirement already satisfied: idna<3,>=2.5 in /usr/local/lib/python3.7/dist-packages (from requests->pytorchcv) (2.10)\n",
            "Installing collected packages: pytorchcv\n",
            "Successfully installed pytorchcv-0.0.65\n",
            "Downloading...\n",
            "From: https://drive.google.com/uc?id=1fHi1ko7wr80wXkXpqpqpOxuYH1mClXoX\n",
            "To: /content/data.zip\n",
            "100% 490k/490k [00:00<00:00, 65.6MB/s]\n",
            "Archive:  ./data.zip\n",
            "   creating: data/\n",
            "   creating: data/deer/\n",
            " extracting: data/deer/deer13.png    \n",
            " extracting: data/deer/deer6.png     \n",
            " extracting: data/deer/deer11.png    \n",
            " extracting: data/deer/deer2.png     \n",
            " extracting: data/deer/deer10.png    \n",
            " extracting: data/deer/deer16.png    \n",
            " extracting: data/deer/deer9.png     \n",
            " extracting: data/deer/deer20.png    \n",
            " extracting: data/deer/deer15.png    \n",
            " extracting: data/deer/deer19.png    \n",
            " extracting: data/deer/deer5.png     \n",
            " extracting: data/deer/deer14.png    \n",
            " extracting: data/deer/deer4.png     \n",
            " extracting: data/deer/deer8.png     \n",
            " extracting: data/deer/deer12.png    \n",
            " extracting: data/deer/deer1.png     \n",
            " extracting: data/deer/deer7.png     \n",
            " extracting: data/deer/deer17.png    \n",
            " extracting: data/deer/deer18.png    \n",
            " extracting: data/deer/deer3.png     \n",
            "   creating: data/horse/\n",
            " extracting: data/horse/horse9.png   \n",
            " extracting: data/horse/horse1.png   \n",
            " extracting: data/horse/horse16.png  \n",
            " extracting: data/horse/horse15.png  \n",
            " extracting: data/horse/horse19.png  \n",
            " extracting: data/horse/horse14.png  \n",
            " extracting: data/horse/horse10.png  \n",
            " extracting: data/horse/horse7.png   \n",
            " extracting: data/horse/horse2.png   \n",
            " extracting: data/horse/horse6.png   \n",
            " extracting: data/horse/horse20.png  \n",
            " extracting: data/horse/horse5.png   \n",
            " extracting: data/horse/horse18.png  \n",
            " extracting: data/horse/horse12.png  \n",
            " extracting: data/horse/horse13.png  \n",
            " extracting: data/horse/horse17.png  \n",
            " extracting: data/horse/horse4.png   \n",
            " extracting: data/horse/horse11.png  \n",
            " extracting: data/horse/horse8.png   \n",
            " extracting: data/horse/horse3.png   \n",
            "   creating: data/ship/\n",
            " extracting: data/ship/ship10.png    \n",
            " extracting: data/ship/ship14.png    \n",
            " extracting: data/ship/ship9.png     \n",
            " extracting: data/ship/ship20.png    \n",
            " extracting: data/ship/ship5.png     \n",
            " extracting: data/ship/ship8.png     \n",
            " extracting: data/ship/ship19.png    \n",
            " extracting: data/ship/ship16.png    \n",
            " extracting: data/ship/ship13.png    \n",
            " extracting: data/ship/ship6.png     \n",
            " extracting: data/ship/ship17.png    \n",
            " extracting: data/ship/ship1.png     \n",
            " extracting: data/ship/ship12.png    \n",
            " extracting: data/ship/ship2.png     \n",
            " extracting: data/ship/ship3.png     \n",
            " extracting: data/ship/ship15.png    \n",
            " extracting: data/ship/ship4.png     \n",
            " extracting: data/ship/ship7.png     \n",
            " extracting: data/ship/ship11.png    \n",
            " extracting: data/ship/ship18.png    \n",
            "   creating: data/frog/\n",
            " extracting: data/frog/frog10.png    \n",
            " extracting: data/frog/frog4.png     \n",
            " extracting: data/frog/frog5.png     \n",
            " extracting: data/frog/frog20.png    \n",
            " extracting: data/frog/frog15.png    \n",
            " extracting: data/frog/frog3.png     \n",
            " extracting: data/frog/frog1.png     \n",
            " extracting: data/frog/frog14.png    \n",
            " extracting: data/frog/frog2.png     \n",
            " extracting: data/frog/frog19.png    \n",
            " extracting: data/frog/frog7.png     \n",
            " extracting: data/frog/frog11.png    \n",
            " extracting: data/frog/frog17.png    \n",
            " extracting: data/frog/frog18.png    \n",
            " extracting: data/frog/frog12.png    \n",
            " extracting: data/frog/frog16.png    \n",
            " extracting: data/frog/frog8.png     \n",
            " extracting: data/frog/frog13.png    \n",
            " extracting: data/frog/frog6.png     \n",
            " extracting: data/frog/frog9.png     \n",
            "   creating: data/airplane/\n",
            " extracting: data/airplane/airplane3.png  \n",
            " extracting: data/airplane/airplane4.png  \n",
            " extracting: data/airplane/airplane2.png  \n",
            " extracting: data/airplane/airplane9.png  \n",
            " extracting: data/airplane/airplane20.png  \n",
            " extracting: data/airplane/airplane18.png  \n",
            " extracting: data/airplane/airplane19.png  \n",
            " extracting: data/airplane/airplane10.png  \n",
            " extracting: data/airplane/airplane6.png  \n",
            " extracting: data/airplane/airplane13.png  \n",
            " extracting: data/airplane/airplane16.png  \n",
            " extracting: data/airplane/airplane14.png  \n",
            " extracting: data/airplane/airplane11.png  \n",
            " extracting: data/airplane/airplane1.png  \n",
            " extracting: data/airplane/airplane17.png  \n",
            " extracting: data/airplane/airplane7.png  \n",
            " extracting: data/airplane/airplane15.png  \n",
            " extracting: data/airplane/airplane5.png  \n",
            " extracting: data/airplane/airplane8.png  \n",
            " extracting: data/airplane/airplane12.png  \n",
            "   creating: data/bird/\n",
            " extracting: data/bird/bird9.png     \n",
            " extracting: data/bird/bird12.png    \n",
            " extracting: data/bird/bird10.png    \n",
            " extracting: data/bird/bird11.png    \n",
            " extracting: data/bird/bird5.png     \n",
            " extracting: data/bird/bird8.png     \n",
            " extracting: data/bird/bird4.png     \n",
            " extracting: data/bird/bird3.png     \n",
            " extracting: data/bird/bird7.png     \n",
            " extracting: data/bird/bird18.png    \n",
            " extracting: data/bird/bird14.png    \n",
            " extracting: data/bird/bird13.png    \n",
            " extracting: data/bird/bird2.png     \n",
            " extracting: data/bird/bird15.png    \n",
            " extracting: data/bird/bird17.png    \n",
            " extracting: data/bird/bird19.png    \n",
            " extracting: data/bird/bird16.png    \n",
            " extracting: data/bird/bird6.png     \n",
            " extracting: data/bird/bird20.png    \n",
            " extracting: data/bird/bird1.png     \n",
            "   creating: data/cat/\n",
            " extracting: data/cat/cat6.png       \n",
            " extracting: data/cat/cat1.png       \n",
            " extracting: data/cat/cat7.png       \n",
            " extracting: data/cat/cat19.png      \n",
            " extracting: data/cat/cat5.png       \n",
            " extracting: data/cat/cat9.png       \n",
            " extracting: data/cat/cat17.png      \n",
            " extracting: data/cat/cat2.png       \n",
            " extracting: data/cat/cat16.png      \n",
            " extracting: data/cat/cat10.png      \n",
            " extracting: data/cat/cat4.png       \n",
            " extracting: data/cat/cat18.png      \n",
            " extracting: data/cat/cat13.png      \n",
            " extracting: data/cat/cat11.png      \n",
            " extracting: data/cat/cat20.png      \n",
            " extracting: data/cat/cat15.png      \n",
            " extracting: data/cat/cat8.png       \n",
            " extracting: data/cat/cat14.png      \n",
            " extracting: data/cat/cat3.png       \n",
            " extracting: data/cat/cat12.png      \n",
            "   creating: data/automobile/\n",
            " extracting: data/automobile/automobile17.png  \n",
            " extracting: data/automobile/automobile11.png  \n",
            " extracting: data/automobile/automobile5.png  \n",
            " extracting: data/automobile/automobile10.png  \n",
            " extracting: data/automobile/automobile20.png  \n",
            " extracting: data/automobile/automobile2.png  \n",
            " extracting: data/automobile/automobile6.png  \n",
            " extracting: data/automobile/automobile1.png  \n",
            " extracting: data/automobile/automobile19.png  \n",
            " extracting: data/automobile/automobile7.png  \n",
            " extracting: data/automobile/automobile16.png  \n",
            " extracting: data/automobile/automobile3.png  \n",
            " extracting: data/automobile/automobile14.png  \n",
            " extracting: data/automobile/automobile12.png  \n",
            " extracting: data/automobile/automobile9.png  \n",
            " extracting: data/automobile/automobile4.png  \n",
            " extracting: data/automobile/automobile8.png  \n",
            " extracting: data/automobile/automobile13.png  \n",
            " extracting: data/automobile/automobile18.png  \n",
            " extracting: data/automobile/automobile15.png  \n",
            "   creating: data/dog/\n",
            " extracting: data/dog/dog9.png       \n",
            " extracting: data/dog/dog2.png       \n",
            " extracting: data/dog/dog15.png      \n",
            " extracting: data/dog/dog8.png       \n",
            " extracting: data/dog/dog3.png       \n",
            " extracting: data/dog/dog19.png      \n",
            " extracting: data/dog/dog12.png      \n",
            " extracting: data/dog/dog7.png       \n",
            " extracting: data/dog/dog17.png      \n",
            " extracting: data/dog/dog11.png      \n",
            " extracting: data/dog/dog16.png      \n",
            " extracting: data/dog/dog20.png      \n",
            " extracting: data/dog/dog4.png       \n",
            " extracting: data/dog/dog5.png       \n",
            " extracting: data/dog/dog14.png      \n",
            " extracting: data/dog/dog18.png      \n",
            " extracting: data/dog/dog10.png      \n",
            " extracting: data/dog/dog1.png       \n",
            " extracting: data/dog/dog13.png      \n",
            " extracting: data/dog/dog6.png       \n",
            "   creating: data/truck/\n",
            " extracting: data/truck/truck1.png   \n",
            " extracting: data/truck/truck18.png  \n",
            " extracting: data/truck/truck9.png   \n",
            " extracting: data/truck/truck4.png   \n",
            " extracting: data/truck/truck14.png  \n",
            " extracting: data/truck/truck8.png   \n",
            " extracting: data/truck/truck12.png  \n",
            " extracting: data/truck/truck15.png  \n",
            " extracting: data/truck/truck2.png   \n",
            " extracting: data/truck/truck5.png   \n",
            " extracting: data/truck/truck3.png   \n",
            " extracting: data/truck/truck10.png  \n",
            " extracting: data/truck/truck17.png  \n",
            " extracting: data/truck/truck20.png  \n",
            " extracting: data/truck/truck19.png  \n",
            " extracting: data/truck/truck13.png  \n",
            " extracting: data/truck/truck7.png   \n",
            " extracting: data/truck/truck6.png   \n",
            "  inflating: data/truck/truck16.png  \n",
            " extracting: data/truck/truck11.png  \n"
          ],
          "name": "stdout"
        }
      ]
    },
    {
      "cell_type": "markdown",
      "metadata": {
        "id": "hkQQf0l1hbBs"
      },
      "source": [
        "## Global Settings\n",
        "\n",
        "* $\\epsilon$ is fixed to be 8. But on **Data section**, we will first apply transforms on raw pixel value (0-255 scale) **by ToTensor (to 0-1 scale)** and then **Normalize (subtract mean divide std)**. $\\epsilon$ should be set to $\\frac{8}{255 * std}$ during attack.\n",
        "\n",
        "* Explaination (optional)\n",
        "    * Denote the first pixel of original image as $p$, and the first pixel of adversarial image as $a$.\n",
        "    * The $\\epsilon$ constraints tell us $\\left| p-a \\right| <= 8$.\n",
        "    * ToTensor() can be seen as a function where $T(x) = x/255$.\n",
        "    * Normalize() can be seen as a function where $N(x) = (x-mean)/std$ where $mean$ and $std$ are constants.\n",
        "    * After applying ToTensor() and Normalize() on $p$ and $a$, the constraint becomes $\\left| N(T(p))-N(T(a)) \\right| = \\left| \\frac{\\frac{p}{255}-mean}{std}-\\frac{\\frac{a}{255}-mean}{std} \\right| = \\frac{1}{255 * std} \\left| p-a \\right| <= \\frac{8}{255 * std}.$\n",
        "    * So, we should set $\\epsilon$ to be $\\frac{8}{255 * std}$ after ToTensor() and Normalize()."
      ]
    },
    {
      "cell_type": "code",
      "metadata": {
        "id": "ACghc_tsg2vE"
      },
      "source": [
        "import torch\n",
        "import torch.nn as nn\n",
        "\n",
        "device = torch.device('cuda' if torch.cuda.is_available() else 'cpu')\n",
        "\n",
        "batch_size = 8\n",
        "\n",
        "# the mean and std are the calculated statistics from cifar_10 dataset\n",
        "cifar_10_mean = (0.491, 0.482, 0.447) # mean for the three channels of cifar_10 images\n",
        "cifar_10_std = (0.202, 0.199, 0.201) # std for the three channels of cifar_10 images\n",
        "\n",
        "# convert mean and std to 3-dimensional tensors for future operations\n",
        "mean = torch.tensor(cifar_10_mean).to(device).view(3, 1, 1)\n",
        "std = torch.tensor(cifar_10_std).to(device).view(3, 1, 1)\n",
        "\n",
        "epsilon = 8/255/std\n",
        "\n",
        "\n",
        "# TODO: iterative fgsm attack\n",
        "# alpha (step size) can be decided by yourself\n",
        "alpha = 0.8/255/std\n",
        "\n",
        "root = './data' # directory for storing benign images\n",
        "# benign images: images which do not contain adversarial perturbations\n",
        "# adversarial images: images which include adversarial perturbations"
      ],
      "execution_count": null,
      "outputs": []
    },
    {
      "cell_type": "markdown",
      "metadata": {
        "id": "lhBJBAlKherZ"
      },
      "source": [
        "## Data\n",
        "\n",
        "Construct dataset and dataloader from root directory. Note that we store the filename of each image for future usage."
      ]
    },
    {
      "cell_type": "code",
      "metadata": {
        "id": "VXpRAHz0hkDt",
        "colab": {
          "base_uri": "https://localhost:8080/"
        },
        "outputId": "5a0dc59b-2dfb-4038-b063-5498c3b8468a"
      },
      "source": [
        "import os\n",
        "import glob\n",
        "import shutil\n",
        "import numpy as np\n",
        "from PIL import Image\n",
        "from torchvision.transforms import transforms\n",
        "from torch.utils.data import Dataset, DataLoader\n",
        "\n",
        "transform = transforms.Compose([\n",
        "    transforms.ToTensor(),\n",
        "    transforms.Normalize(cifar_10_mean, cifar_10_std)\n",
        "])\n",
        "\n",
        "class AdvDataset(Dataset):\n",
        "    def __init__(self, data_dir, transform):\n",
        "        self.images = []\n",
        "        self.labels = []\n",
        "        self.names = []\n",
        "        '''\n",
        "        data_dir\n",
        "        ├── class_dir\n",
        "        │   ├── class1.png\n",
        "        │   ├── ...\n",
        "        │   ├── class20.png\n",
        "        '''\n",
        "        for i, class_dir in enumerate(sorted(glob.glob(f'{data_dir}/*'))):\n",
        "            images = sorted(glob.glob(f'{class_dir}/*'))\n",
        "            self.images += images\n",
        "            self.labels += ([i] * len(images))\n",
        "            self.names += [os.path.relpath(imgs, data_dir) for imgs in images]\n",
        "        self.transform = transform\n",
        "    def __getitem__(self, idx):\n",
        "        image = self.transform(Image.open(self.images[idx]))\n",
        "        label = self.labels[idx]\n",
        "        return image, label\n",
        "    def __getname__(self):\n",
        "        return self.names\n",
        "    def __len__(self):\n",
        "        return len(self.images)\n",
        "\n",
        "adv_set = AdvDataset(root, transform=transform)\n",
        "adv_names = adv_set.__getname__()\n",
        "adv_loader = DataLoader(adv_set, batch_size=batch_size, shuffle=False)\n",
        "\n",
        "print(f'number of images = {adv_set.__len__()}')"
      ],
      "execution_count": 19,
      "outputs": [
        {
          "output_type": "stream",
          "text": [
            "number of images = 200\n"
          ],
          "name": "stdout"
        }
      ]
    },
    {
      "cell_type": "markdown",
      "metadata": {
        "id": "LnszlTsYrTQZ"
      },
      "source": [
        "## Utils -- Benign Images Evaluation"
      ]
    },
    {
      "cell_type": "code",
      "metadata": {
        "id": "5c_zZLzkrceE"
      },
      "source": [
        "# to evaluate the performance of model on benign images\n",
        "def epoch_benign(model, loader, loss_fn):\n",
        "    model.eval()\n",
        "    train_acc, train_loss = 0.0, 0.0\n",
        "    for x, y in loader:\n",
        "        x, y = x.to(device), y.to(device)\n",
        "        yp = model(x)\n",
        "        loss = loss_fn(yp, y)\n",
        "        train_acc += (yp.argmax(dim=1) == y).sum().item()\n",
        "        train_loss += loss.item() * x.shape[0]\n",
        "    return train_acc / len(loader.dataset), train_loss / len(loader.dataset)"
      ],
      "execution_count": 20,
      "outputs": []
    },
    {
      "cell_type": "markdown",
      "metadata": {
        "id": "_YJxK7YehqQy"
      },
      "source": [
        "## Utils -- Attack Algorithm"
      ]
    },
    {
      "cell_type": "code",
      "metadata": {
        "id": "F_1wKfKyhrQW"
      },
      "source": [
        "# perform fgsm attack\n",
        "def fgsm(model, x, y, loss_fn, epsilon=epsilon):\n",
        "    x_adv = x.detach().clone() # initialize x_adv as original benign image x\n",
        "    x_adv.requires_grad = True # need to obtain gradient of x_adv, thus set required grad\n",
        "    loss = loss_fn(model(x_adv), y) # calculate loss\n",
        "    loss.backward() # calculate gradient\n",
        "    # fgsm: use gradient ascent on x_adv to maximize loss\n",
        "    x_adv = x_adv + epsilon * x_adv.grad.detach().sign()\n",
        "    return x_adv\n",
        "\n",
        "# TODO: perform iterative fgsm attack\n",
        "# set alpha as the step size in Global Settings section\n",
        "# alpha and num_iter can be decided by yourself\n",
        "\n",
        "def ifgsm(model, x, y, loss_fn, epsilon=epsilon, alpha=alpha, num_iter=40):\n",
        "    # initialize x_adv as original benign image x\n",
        "    x_adv = x.detach().clone()\n",
        "    # write a loop of num_iter to represent the iterative times\n",
        "    # for each loop\n",
        "    for i in range(num_iter):\n",
        "        # call fgsm with (epsilon = alpha) to obtain new x_adv\n",
        "        x_adv = fgsm(model, x_adv, y, loss_fn, alpha)\n",
        "        # clip new x_adv back to [x-epsilon, x+epsilon]\n",
        "        x_adv = torch.min(torch.max(x_adv, x-epsilon), x+epsilon)\n",
        "    return x_adv\n"
      ],
      "execution_count": 21,
      "outputs": []
    },
    {
      "cell_type": "markdown",
      "metadata": {
        "id": "fYCEQwmcrmH6"
      },
      "source": [
        "## Utils -- Attack\n",
        "\n",
        "* Recall\n",
        "    * ToTensor() can be seen as a function where $T(x) = x/255$.\n",
        "    * Normalize() can be seen as a function where $N(x) = (x-mean)/std$ where $mean$ and $std$ are constants.\n",
        "\n",
        "* Inverse function\n",
        "    * Inverse Normalize() can be seen as a function where $N^{-1}(x) = x*std+mean$ where $mean$ and $std$ are constants.\n",
        "    * Inverse ToTensor() can be seen as a function where $T^{-1}(x) = x*255$.\n",
        "\n",
        "* Special Noted\n",
        "    * ToTensor() will also convert the image from shape (height, width, channel) to shape (channel, height, width), so we also need to transpose the shape back to original shape.\n",
        "    * Since our dataloader samples a batch of data, what we need here is to transpose **(batch_size, channel, height, width)** back to **(batch_size, height, width, channel)** using np.transpose."
      ]
    },
    {
      "cell_type": "code",
      "metadata": {
        "id": "w5X_9x-7ro_w"
      },
      "source": [
        "# perform adversarial attack and generate adversarial examples\n",
        "def gen_adv_examples(model, loader, attack, loss_fn):\n",
        "    model.eval()\n",
        "    adv_names = []\n",
        "    train_acc, train_loss = 0.0, 0.0\n",
        "    for i, (x, y) in enumerate(loader):\n",
        "        x, y = x.to(device), y.to(device)\n",
        "        x_adv = attack(model, x, y, loss_fn) # obtain adversarial examples\n",
        "        yp = model(x_adv)\n",
        "        loss = loss_fn(yp, y)\n",
        "        train_acc += (yp.argmax(dim=1) == y).sum().item()\n",
        "        train_loss += loss.item() * x.shape[0]\n",
        "        # store adversarial examples\n",
        "        adv_ex = ((x_adv) * std + mean).clamp(0, 1) # to 0-1 scale\n",
        "        adv_ex = (adv_ex * 255).clamp(0, 255) # 0-255 scale\n",
        "        adv_ex = adv_ex.detach().cpu().data.numpy().round() # round to remove decimal part\n",
        "        adv_ex = adv_ex.transpose((0, 2, 3, 1)) # transpose (bs, C, H, W) back to (bs, H, W, C)\n",
        "        adv_examples = adv_ex if i == 0 else np.r_[adv_examples, adv_ex]\n",
        "    return adv_examples, train_acc / len(loader.dataset), train_loss / len(loader.dataset)\n",
        "\n",
        "# create directory which stores adversarial examples\n",
        "def create_dir(data_dir, adv_dir, adv_examples, adv_names):\n",
        "    if os.path.exists(adv_dir) is not True:\n",
        "        _ = shutil.copytree(data_dir, adv_dir)\n",
        "    for example, name in zip(adv_examples, adv_names):\n",
        "        im = Image.fromarray(example.astype(np.uint8)) # image pixel value should be unsigned int\n",
        "        im.save(os.path.join(adv_dir, name))"
      ],
      "execution_count": 22,
      "outputs": []
    },
    {
      "cell_type": "markdown",
      "metadata": {
        "id": "r_pMkmPytX3k"
      },
      "source": [
        "## Model / Loss Function\n",
        "\n",
        "Model list is available [here](https://github.com/osmr/imgclsmob/blob/master/pytorch/pytorchcv/model_provider.py). Please select models which has _cifar10 suffix. Some of the models cannot be accessed/loaded. You can safely skip them since TA's model will not use those kinds of models."
      ]
    },
    {
      "cell_type": "code",
      "metadata": {
        "id": "jwto8xbPtYzQ",
        "colab": {
          "base_uri": "https://localhost:8080/"
        },
        "outputId": "c37c963c-6a3f-4802-d59c-26bfe3cb72e8"
      },
      "source": [
        "from pytorchcv.model_provider import get_model as ptcv_get_model\n",
        "\n",
        "\n",
        "model0 = ptcv_get_model('resnet20_cifar10', pretrained=True).to(device)\n",
        "loss_fn = nn.CrossEntropyLoss()\n",
        "benign_acc, benign_loss = epoch_benign(model0, adv_loader, loss_fn)\n",
        "print(f'model0: benign_acc = {benign_acc:.5f}, benign_loss = {benign_loss:.5f}')\n",
        "\n",
        "model1 = ptcv_get_model('resnet110_cifar10', pretrained=True).to(device)\n",
        "loss_fn = nn.CrossEntropyLoss()\n",
        "benign_acc, benign_loss = epoch_benign(model1, adv_loader, loss_fn)\n",
        "print(f'model1: benign_acc = {benign_acc:.5f}, benign_loss = {benign_loss:.5f}')\n",
        "\n",
        "model2 = ptcv_get_model('wrn40_8_cifar10', pretrained=True).to(device)\n",
        "loss_fn = nn.CrossEntropyLoss()\n",
        "benign_acc, benign_loss = epoch_benign(model2, adv_loader, loss_fn)\n",
        "print(f'model2: benign_acc = {benign_acc:.5f}, benign_loss = {benign_loss:.5f}')\n",
        "\n",
        "model3 = ptcv_get_model('densenet100_k12_bc_cifar10', pretrained=True).to(device)\n",
        "loss_fn = nn.CrossEntropyLoss()\n",
        "benign_acc, benign_loss = epoch_benign(model3, adv_loader, loss_fn)\n",
        "print(f'model3: benign_acc = {benign_acc:.5f}, benign_loss = {benign_loss:.5f}')\n",
        "\n",
        "model4 = ptcv_get_model('pyramidnet272_a200_bn_cifar10', pretrained=True).to(device)\n",
        "loss_fn = nn.CrossEntropyLoss()\n",
        "benign_acc, benign_loss = epoch_benign(model4, adv_loader, loss_fn)\n",
        "print(f'model4: benign_acc = {benign_acc:.5f}, benign_loss = {benign_loss:.5f}')\n",
        "\n",
        "model5 = ptcv_get_model('xdensenet40_2_k36_bc_cifar10', pretrained=True).to(device)\n",
        "loss_fn = nn.CrossEntropyLoss()\n",
        "benign_acc, benign_loss = epoch_benign(model5, adv_loader, loss_fn)\n",
        "print(f'model5: benign_acc = {benign_acc:.5f}, benign_loss = {benign_loss:.5f}')"
      ],
      "execution_count": 23,
      "outputs": [
        {
          "output_type": "stream",
          "text": [
            "model0: benign_acc = 0.94500, benign_loss = 0.17499\n",
            "model1: benign_acc = 0.95000, benign_loss = 0.22678\n",
            "model2: benign_acc = 0.98000, benign_loss = 0.21565\n",
            "model3: benign_acc = 0.95500, benign_loss = 0.34458\n",
            "model4: benign_acc = 0.96000, benign_loss = 0.19549\n",
            "model5: benign_acc = 0.94500, benign_loss = 0.30895\n"
          ],
          "name": "stdout"
        }
      ]
    },
    {
      "cell_type": "code",
      "metadata": {
        "id": "UkKtHzZX845Z"
      },
      "source": [
        "class modelensembled(nn.Module):\n",
        "  def __init__(self, model0, model1, model2, model3, model4):\n",
        "    super(modelensembled, self).__init__()\n",
        "    self.model0 = model0\n",
        "    self.model1 = model1\n",
        "    self.model2 = model2\n",
        "    self.model3 = model3\n",
        "    self.model4 = model4\n",
        "  \n",
        "  def eval(self):\n",
        "    self.model0.eval()\n",
        "    self.model1.eval()\n",
        "    self.model2.eval()\n",
        "    self.model3.eval()\n",
        "    self.model4.eval()\n",
        "\n",
        "\n",
        "\n",
        "\n",
        "  def train(self, x):\n",
        "    self.model0.train()\n",
        "    self.model1.train()\n",
        "    self.model2.train()\n",
        "    self.model3.train()\n",
        "    self.model4.train()\n",
        "\n",
        "  def forward(self, x):\n",
        "    x0 = self.model0(x)\n",
        "    x1 = self.model1(x)\n",
        "    x2 = self.model2(x)\n",
        "    x3 = self.model3(x)\n",
        "    x4 = self.model4(x)\n",
        "\n",
        "    ensemblex = 0.2*x0 + 0.2*x1 + 0.2*x2 + 0.2*x3 + 0.2*x4\n",
        "\n",
        "    return ensemblex"
      ],
      "execution_count": 28,
      "outputs": []
    },
    {
      "cell_type": "code",
      "metadata": {
        "id": "ljpiZDVhAt9A"
      },
      "source": [
        "model = modelensembled(model0, model1, model2, model3, model4)"
      ],
      "execution_count": 30,
      "outputs": []
    },
    {
      "cell_type": "markdown",
      "metadata": {
        "id": "uslb7GPchtMI"
      },
      "source": [
        "## FGSM"
      ]
    },
    {
      "cell_type": "code",
      "metadata": {
        "id": "wQwPTVUIhuTS",
        "colab": {
          "base_uri": "https://localhost:8080/"
        },
        "outputId": "c19c4139-6603-42fb-a026-197735dd3d31"
      },
      "source": [
        "adv_examples, fgsm_acc, fgsm_loss = gen_adv_examples(model, adv_loader, fgsm, loss_fn)\n",
        "print(f'fgsm_acc = {fgsm_acc:.5f}, fgsm_loss = {fgsm_loss:.5f}')\n",
        "\n",
        "create_dir(root, 'fgsm', adv_examples, adv_names)"
      ],
      "execution_count": null,
      "outputs": [
        {
          "output_type": "stream",
          "text": [
            "fgsm_acc = 0.56500, fgsm_loss = 2.51178\n"
          ],
          "name": "stdout"
        }
      ]
    },
    {
      "cell_type": "markdown",
      "metadata": {
        "id": "WXw6p0A6shZm"
      },
      "source": [
        "## I-FGSM"
      ]
    },
    {
      "cell_type": "code",
      "metadata": {
        "id": "fUEsT06Iskt2",
        "colab": {
          "base_uri": "https://localhost:8080/"
        },
        "outputId": "7b3e6c29-3ff6-432f-d6b1-5d0556733411"
      },
      "source": [
        "# TODO: iterative fgsm attack\n",
        "adv_examples, ifgsm_acc, ifgsm_loss = gen_adv_examples(model, adv_loader, ifgsm, loss_fn)\n",
        "print(f'ifgsm_acc = {ifgsm_acc:.5f}, ifgsm_loss = {ifgsm_loss:.5f}')\n",
        "\n",
        "create_dir(root, 'ifgsm', adv_examples, adv_names)"
      ],
      "execution_count": 31,
      "outputs": [
        {
          "output_type": "stream",
          "text": [
            "ifgsm_acc = 0.00000, ifgsm_loss = 17.83741\n"
          ],
          "name": "stdout"
        }
      ]
    },
    {
      "cell_type": "markdown",
      "metadata": {
        "id": "DQ-nYkkYexEE"
      },
      "source": [
        "## Compress the images"
      ]
    },
    {
      "cell_type": "code",
      "metadata": {
        "id": "ItRo_S0M264N",
        "colab": {
          "base_uri": "https://localhost:8080/"
        },
        "outputId": "13110433-aaee-457d-8dae-e9806c6c012b"
      },
      "source": [
        "%cd ifgsm\n",
        "!tar zcvf ../ifgsm.tgz *\n",
        "%cd ..\n",
        "\n",
        "# %cd ifgsm\n",
        "# !tar zcvf ../ifgsm.tgz *\n",
        "# %cd .."
      ],
      "execution_count": 32,
      "outputs": [
        {
          "output_type": "stream",
          "text": [
            "/content/ifgsm\n",
            "airplane/\n",
            "airplane/airplane11.png\n",
            "airplane/airplane19.png\n",
            "airplane/airplane17.png\n",
            "airplane/airplane6.png\n",
            "airplane/airplane10.png\n",
            "airplane/airplane12.png\n",
            "airplane/airplane20.png\n",
            "airplane/airplane8.png\n",
            "airplane/airplane16.png\n",
            "airplane/airplane14.png\n",
            "airplane/airplane1.png\n",
            "airplane/airplane2.png\n",
            "airplane/airplane13.png\n",
            "airplane/airplane3.png\n",
            "airplane/airplane4.png\n",
            "airplane/airplane18.png\n",
            "airplane/airplane7.png\n",
            "airplane/airplane15.png\n",
            "airplane/airplane9.png\n",
            "airplane/airplane5.png\n",
            "automobile/\n",
            "automobile/automobile16.png\n",
            "automobile/automobile18.png\n",
            "automobile/automobile3.png\n",
            "automobile/automobile10.png\n",
            "automobile/automobile19.png\n",
            "automobile/automobile13.png\n",
            "automobile/automobile17.png\n",
            "automobile/automobile15.png\n",
            "automobile/automobile11.png\n",
            "automobile/automobile9.png\n",
            "automobile/automobile20.png\n",
            "automobile/automobile8.png\n",
            "automobile/automobile2.png\n",
            "automobile/automobile4.png\n",
            "automobile/automobile7.png\n",
            "automobile/automobile1.png\n",
            "automobile/automobile12.png\n",
            "automobile/automobile14.png\n",
            "automobile/automobile6.png\n",
            "automobile/automobile5.png\n",
            "bird/\n",
            "bird/bird6.png\n",
            "bird/bird15.png\n",
            "bird/bird13.png\n",
            "bird/bird10.png\n",
            "bird/bird7.png\n",
            "bird/bird17.png\n",
            "bird/bird5.png\n",
            "bird/bird16.png\n",
            "bird/bird8.png\n",
            "bird/bird2.png\n",
            "bird/bird20.png\n",
            "bird/bird4.png\n",
            "bird/bird3.png\n",
            "bird/bird19.png\n",
            "bird/bird14.png\n",
            "bird/bird18.png\n",
            "bird/bird1.png\n",
            "bird/bird11.png\n",
            "bird/bird12.png\n",
            "bird/bird9.png\n",
            "cat/\n",
            "cat/cat12.png\n",
            "cat/cat13.png\n",
            "cat/cat1.png\n",
            "cat/cat17.png\n",
            "cat/cat2.png\n",
            "cat/cat19.png\n",
            "cat/cat16.png\n",
            "cat/cat11.png\n",
            "cat/cat7.png\n",
            "cat/cat4.png\n",
            "cat/cat9.png\n",
            "cat/cat10.png\n",
            "cat/cat3.png\n",
            "cat/cat14.png\n",
            "cat/cat6.png\n",
            "cat/cat20.png\n",
            "cat/cat18.png\n",
            "cat/cat8.png\n",
            "cat/cat15.png\n",
            "cat/cat5.png\n",
            "deer/\n",
            "deer/deer19.png\n",
            "deer/deer9.png\n",
            "deer/deer11.png\n",
            "deer/deer8.png\n",
            "deer/deer13.png\n",
            "deer/deer18.png\n",
            "deer/deer16.png\n",
            "deer/deer20.png\n",
            "deer/deer1.png\n",
            "deer/deer7.png\n",
            "deer/deer15.png\n",
            "deer/deer17.png\n",
            "deer/deer4.png\n",
            "deer/deer6.png\n",
            "deer/deer14.png\n",
            "deer/deer12.png\n",
            "deer/deer2.png\n",
            "deer/deer3.png\n",
            "deer/deer10.png\n",
            "deer/deer5.png\n",
            "dog/\n",
            "dog/dog14.png\n",
            "dog/dog13.png\n",
            "dog/dog20.png\n",
            "dog/dog4.png\n",
            "dog/dog10.png\n",
            "dog/dog5.png\n",
            "dog/dog11.png\n",
            "dog/dog1.png\n",
            "dog/dog7.png\n",
            "dog/dog19.png\n",
            "dog/dog15.png\n",
            "dog/dog6.png\n",
            "dog/dog18.png\n",
            "dog/dog12.png\n",
            "dog/dog8.png\n",
            "dog/dog2.png\n",
            "dog/dog9.png\n",
            "dog/dog3.png\n",
            "dog/dog17.png\n",
            "dog/dog16.png\n",
            "frog/\n",
            "frog/frog5.png\n",
            "frog/frog6.png\n",
            "frog/frog2.png\n",
            "frog/frog14.png\n",
            "frog/frog9.png\n",
            "frog/frog12.png\n",
            "frog/frog7.png\n",
            "frog/frog3.png\n",
            "frog/frog15.png\n",
            "frog/frog8.png\n",
            "frog/frog20.png\n",
            "frog/frog17.png\n",
            "frog/frog10.png\n",
            "frog/frog4.png\n",
            "frog/frog16.png\n",
            "frog/frog11.png\n",
            "frog/frog13.png\n",
            "frog/frog18.png\n",
            "frog/frog19.png\n",
            "frog/frog1.png\n",
            "horse/\n",
            "horse/horse15.png\n",
            "horse/horse4.png\n",
            "horse/horse20.png\n",
            "horse/horse6.png\n",
            "horse/horse5.png\n",
            "horse/horse10.png\n",
            "horse/horse2.png\n",
            "horse/horse9.png\n",
            "horse/horse11.png\n",
            "horse/horse8.png\n",
            "horse/horse17.png\n",
            "horse/horse3.png\n",
            "horse/horse19.png\n",
            "horse/horse16.png\n",
            "horse/horse1.png\n",
            "horse/horse18.png\n",
            "horse/horse12.png\n",
            "horse/horse14.png\n",
            "horse/horse13.png\n",
            "horse/horse7.png\n",
            "ship/\n",
            "ship/ship12.png\n",
            "ship/ship10.png\n",
            "ship/ship9.png\n",
            "ship/ship1.png\n",
            "ship/ship17.png\n",
            "ship/ship4.png\n",
            "ship/ship16.png\n",
            "ship/ship11.png\n",
            "ship/ship2.png\n",
            "ship/ship19.png\n",
            "ship/ship6.png\n",
            "ship/ship7.png\n",
            "ship/ship13.png\n",
            "ship/ship14.png\n",
            "ship/ship3.png\n",
            "ship/ship18.png\n",
            "ship/ship5.png\n",
            "ship/ship8.png\n",
            "ship/ship20.png\n",
            "ship/ship15.png\n",
            "truck/\n",
            "truck/truck16.png\n",
            "truck/truck2.png\n",
            "truck/truck14.png\n",
            "truck/truck17.png\n",
            "truck/truck20.png\n",
            "truck/truck18.png\n",
            "truck/truck11.png\n",
            "truck/truck13.png\n",
            "truck/truck15.png\n",
            "truck/truck7.png\n",
            "truck/truck19.png\n",
            "truck/truck4.png\n",
            "truck/truck10.png\n",
            "truck/truck5.png\n",
            "truck/truck9.png\n",
            "truck/truck8.png\n",
            "truck/truck6.png\n",
            "truck/truck3.png\n",
            "truck/truck1.png\n",
            "truck/truck12.png\n",
            "/content\n"
          ],
          "name": "stdout"
        }
      ]
    },
    {
      "cell_type": "markdown",
      "metadata": {
        "id": "0FM_S886kFd8"
      },
      "source": [
        "## Visualization"
      ]
    },
    {
      "cell_type": "code",
      "metadata": {
        "id": "2FCuE2njkH1O",
        "colab": {
          "base_uri": "https://localhost:8080/",
          "height": 735
        },
        "outputId": "1bc72d95-4665-4276-cf3e-d03cbe8e39ea"
      },
      "source": [
        "import matplotlib.pyplot as plt\n",
        "\n",
        "classes = ['airplane', 'automobile', 'bird', 'cat', 'deer', 'dog', 'frog', 'horse', 'ship', 'truck']\n",
        "\n",
        "plt.figure(figsize=(10, 20))\n",
        "cnt = 0\n",
        "for i, cls_name in enumerate(classes):\n",
        "    path = f'{cls_name}/{cls_name}1.png'\n",
        "    # benign image\n",
        "    cnt += 1\n",
        "    plt.subplot(len(classes), 4, cnt)\n",
        "    im = Image.open(f'./data/{path}')\n",
        "    logit = model(transform(im).unsqueeze(0).to(device))[0]\n",
        "    predict = logit.argmax(-1).item()\n",
        "    prob = logit.softmax(-1)[predict].item()\n",
        "    plt.title(f'benign: {cls_name}1.png\\n{classes[predict]}: {prob:.2%}')\n",
        "    plt.axis('off')\n",
        "    plt.imshow(np.array(im))\n",
        "    # adversarial image\n",
        "    cnt += 1\n",
        "    plt.subplot(len(classes), 4, cnt)\n",
        "    \n",
        "    # change method here\n",
        "    im = Image.open(f'./ifgsm/{path}')\n",
        "    logit = model(transform(im).unsqueeze(0).to(device))[0]\n",
        "    predict = logit.argmax(-1).item()\n",
        "    prob = logit.softmax(-1)[predict].item()\n",
        "    plt.title(f'adversarial: {cls_name}1.png\\n{classes[predict]}: {prob:.2%}')\n",
        "    plt.axis('off')\n",
        "    plt.imshow(np.array(im))\n",
        "plt.tight_layout()\n",
        "plt.show()"
      ],
      "execution_count": null,
      "outputs": [
        {
          "output_type": "display_data",
          "data": {
            "image/png": "[encoded data removed]",
            "text/plain": [
              "<Figure size 720x1440 with 20 Axes>"
            ]
          },
          "metadata": {
            "tags": [],
            "needs_background": "light"
          }
        }
      ]
    }
  ]
}