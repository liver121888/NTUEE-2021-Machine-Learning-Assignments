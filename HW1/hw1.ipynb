{
  "nbformat": 4,
  "nbformat_minor": 0,
  "metadata": {
    "colab": {
      "name": "「ML2021Spring - HW1.ipynb」的副本",
      "provenance": [],
      "collapsed_sections": [
        "g0pdrhQAO41L"
      ],
      "toc_visible": true
    },
    "kernelspec": {
      "name": "python3",
      "display_name": "Python 3"
    },
    "accelerator": "GPU"
  },
  "cells": [
    {
      "cell_type": "markdown",
      "metadata": {
        "id": "mz0_QVkxCrX3"
      },
      "source": [
        "# **Homework 1: COVID-19 Cases Prediction (Regression)**"
      ]
    },
    {
      "cell_type": "markdown",
      "metadata": {
        "id": "ZeZnPAiwDRWG"
      },
      "source": [
        "Author: Heng-Jui Chang\n",
        "\n",
        "Slides: https://github.com/ga642381/ML2021-Spring/blob/main/HW01/HW01.pdf  \n",
        "Video: TBA\n",
        "\n",
        "Objectives:\n",
        "* Solve a regression problem with deep neural networks (DNN).\n",
        "* Understand basic DNN training tips.\n",
        "* Get familiar with PyTorch.\n",
        "\n",
        "If any questions, please contact the TAs via TA hours, NTU COOL, or email.\n"
      ]
    },
    {
      "cell_type": "markdown",
      "metadata": {
        "id": "Jx3x1nDkG-Uy"
      },
      "source": [
        "# **Download Data**\n",
        "\n",
        "\n",
        "If the Google drive links are dead, you can download data from [kaggle](https://www.kaggle.com/c/ml2021spring-hw1/data), and upload data manually to the workspace."
      ]
    },
    {
      "cell_type": "code",
      "metadata": {
        "colab": {
          "base_uri": "https://localhost:8080/"
        },
        "id": "tMj55YDKG6ch",
        "outputId": "75832840-6209-41dc-e664-749671cffb73"
      },
      "source": [
        "tr_path = 'covid.train.csv'  # path to training data\n",
        "tt_path = 'covid.test.csv'   # path to testing data\n",
        "\n",
        "!gdown --id '19CCyCgJrUxtvgZF53vnctJiOJ23T5mqF' --output covid.train.csv\n",
        "!gdown --id '1CE240jLm2npU-tdz81-oVKEF3T2yfT1O' --output covid.test.csv"
      ],
      "execution_count": 30,
      "outputs": [
        {
          "output_type": "stream",
          "text": [
            "Downloading...\n",
            "From: https://drive.google.com/uc?id=19CCyCgJrUxtvgZF53vnctJiOJ23T5mqF\n",
            "To: /content/covid.train.csv\n",
            "100% 2.00M/2.00M [00:00<00:00, 31.6MB/s]\n",
            "Downloading...\n",
            "From: https://drive.google.com/uc?id=1CE240jLm2npU-tdz81-oVKEF3T2yfT1O\n",
            "To: /content/covid.test.csv\n",
            "100% 651k/651k [00:00<00:00, 10.3MB/s]\n"
          ],
          "name": "stdout"
        }
      ]
    },
    {
      "cell_type": "markdown",
      "metadata": {
        "id": "wS_4-77xHk44"
      },
      "source": [
        "# **Import Some Packages**"
      ]
    },
    {
      "cell_type": "code",
      "metadata": {
        "id": "k-onQd4JNA5H"
      },
      "source": [
        "# PyTorch\n",
        "import torch\n",
        "import torch.nn as nn\n",
        "from torch.utils.data import Dataset, DataLoader\n",
        "\n",
        "# For data preprocess\n",
        "import numpy as np\n",
        "import csv\n",
        "import os\n",
        "\n",
        "# For plotting\n",
        "import matplotlib.pyplot as plt\n",
        "from matplotlib.pyplot import figure\n",
        "\n",
        "myseed = 42069  # set a random seed for reproducibility\n",
        "torch.backends.cudnn.deterministic = True\n",
        "torch.backends.cudnn.benchmark = False\n",
        "np.random.seed(myseed)\n",
        "torch.manual_seed(myseed)\n",
        "if torch.cuda.is_available():\n",
        "    torch.cuda.manual_seed_all(myseed)"
      ],
      "execution_count": 31,
      "outputs": []
    },
    {
      "cell_type": "markdown",
      "metadata": {
        "id": "BtE3b6JEH7rw"
      },
      "source": [
        "# **Some Utilities**\n",
        "\n",
        "You do not need to modify this part."
      ]
    },
    {
      "cell_type": "code",
      "metadata": {
        "id": "FWMT3uf1NGQp"
      },
      "source": [
        "def get_device():\n",
        "    ''' Get device (if GPU is available, use GPU) '''\n",
        "    return 'cuda' if torch.cuda.is_available() else 'cpu'\n",
        "\n",
        "def plot_learning_curve(loss_record, title=''):\n",
        "    ''' Plot learning curve of your DNN (train & dev loss) '''\n",
        "    total_steps = len(loss_record['train'])\n",
        "    x_1 = range(total_steps)\n",
        "    x_2 = x_1[::len(loss_record['train']) // len(loss_record['dev'])]\n",
        "    figure(figsize=(6, 4))\n",
        "    plt.plot(x_1, loss_record['train'], c='tab:red', label='train')\n",
        "    plt.plot(x_2, loss_record['dev'], c='tab:cyan', label='dev')\n",
        "    plt.ylim(0.0, 5.)\n",
        "    plt.xlabel('Training steps')\n",
        "    plt.ylabel('MSE loss')\n",
        "    plt.title('Learning curve of {}'.format(title))\n",
        "    plt.legend()\n",
        "    plt.show()\n",
        "\n",
        "\n",
        "def plot_pred(dv_set, model, device, lim=35., preds=None, targets=None):\n",
        "    ''' Plot prediction of your DNN '''\n",
        "    if preds is None or targets is None:\n",
        "        model.eval()\n",
        "        preds, targets = [], []\n",
        "        for x, y in dv_set:\n",
        "            x, y = x.to(device), y.to(device)\n",
        "            with torch.no_grad():\n",
        "                pred = model(x)\n",
        "                preds.append(pred.detach().cpu())\n",
        "                targets.append(y.detach().cpu())\n",
        "        preds = torch.cat(preds, dim=0).numpy()\n",
        "        targets = torch.cat(targets, dim=0).numpy()\n",
        "\n",
        "    figure(figsize=(5, 5))\n",
        "    plt.scatter(targets, preds, c='r', alpha=0.5)\n",
        "    plt.plot([-0.2, lim], [-0.2, lim], c='b')\n",
        "    plt.xlim(-0.2, lim)\n",
        "    plt.ylim(-0.2, lim)\n",
        "    plt.xlabel('ground truth value')\n",
        "    plt.ylabel('predicted value')\n",
        "    plt.title('Ground Truth v.s. Prediction')\n",
        "    plt.show()\n",
        "    a = (targets-preds)*(targets-preds)\n",
        "    loss = np.sqrt(a.mean())\n",
        "    print(loss)"
      ],
      "execution_count": 32,
      "outputs": []
    },
    {
      "cell_type": "markdown",
      "metadata": {
        "id": "39U_XFX6KOoj"
      },
      "source": [
        "# **Preprocess**\n",
        "\n",
        "We have three kinds of datasets:\n",
        "* `train`: for training\n",
        "* `dev`: for validation\n",
        "* `test`: for testing (w/o target value)"
      ]
    },
    {
      "cell_type": "markdown",
      "metadata": {
        "id": "TQ-MdwpLL7Dt"
      },
      "source": [
        "## **Dataset**\n",
        "\n",
        "The `COVID19Dataset` below does:\n",
        "* read `.csv` files\n",
        "* extract features\n",
        "* split `covid.train.csv` into train/dev sets\n",
        "* normalize features\n",
        "\n",
        "Finishing `TODO` below might make you pass medium baseline."
      ]
    },
    {
      "cell_type": "code",
      "metadata": {
        "id": "0zlpIp9ANJRU"
      },
      "source": [
        "class COVID19Dataset(Dataset):\n",
        "    ''' Dataset for loading and preprocessing the COVID19 dataset '''\n",
        "    def __init__(self,\n",
        "                 path,\n",
        "                 mode='train',\n",
        "                 target_only=False):\n",
        "        self.mode = mode\n",
        "\n",
        "        # Read data into numpy arrays\n",
        "        with open(path, 'r') as fp:\n",
        "            data = list(csv.reader(fp))\n",
        "            data = np.array(data[1:])[:, 1:].astype(float)\n",
        "        \n",
        "        if not target_only:\n",
        "            feats = list(range(93))\n",
        "        else:\n",
        "            # TODO: Using 40 states & 2 tested_positive features (indices = 57 & 75)\n",
        "            feats =  list(range(40)) + [40, 41, 42, 43, 57, 58, 59, 60, 61, 75, 76, 77, 78, 79]\n",
        "            pass\n",
        "\n",
        "        if mode == 'test':\n",
        "            # Testing data\n",
        "            # data: 893 x 93 (40 states + day 1 (18) + day 2 (18) + day 3 (17))\n",
        "            data = data[:, feats]\n",
        "            self.data = torch.FloatTensor(data)\n",
        "        else:\n",
        "            # Training data (train/dev sets)\n",
        "            # data: 2700 x 94 (40 states + day 1 (18) + day 2 (18) + day 3 (18))\n",
        "            # todo-select feature\n",
        "            target = data[:, -1]\n",
        "            data = data[:, feats]\n",
        "            \n",
        "            # Splitting training data into train & dev sets\n",
        "            if mode == 'train':\n",
        "                indices = [i for i in range(len(data)) if i % 10 != 3]\n",
        "            elif mode == 'dev':\n",
        "                indices = [i for i in range(len(data)) if i % 10 == 3]\n",
        "            \n",
        "            # Convert data into PyTorch tensors\n",
        "            self.data = torch.FloatTensor(data[indices])\n",
        "            self.target = torch.FloatTensor(target[indices])\n",
        "\n",
        "       # Normalize features (you may remove this part to see what will happen)\n",
        "#        self.data[:, 40:] = \\\n",
        "#          (self.data[:, 40:] - self.data[:, 40:].mean(dim=0, keepdim=True)) \\\n",
        "#          / self.data[:, 40:].std(dim=0, keepdim=True)\n",
        "#\n",
        "        self.dim = self.data.shape[1]\n",
        "\n",
        "#       print('Finished reading the {} set of COVID19 Dataset ({} samples found, each dim = {})'\n",
        "#             .format(mode, len(self.data), self.dim))\n",
        "\n",
        "    def __getitem__(self, index):\n",
        "        # Returns one sample at a time\n",
        "        if self.mode in ['train', 'dev']:\n",
        "            # For training\n",
        "            return self.data[index], self.target[index]\n",
        "        else:\n",
        "            # For testing (no target)\n",
        "            return self.data[index]\n",
        "\n",
        "    def __len__(self):\n",
        "        # Returns the size of the dataset\n",
        "        return len(self.data)"
      ],
      "execution_count": 33,
      "outputs": []
    },
    {
      "cell_type": "markdown",
      "metadata": {
        "id": "AlhTlkE7MDo3"
      },
      "source": [
        "## **DataLoader**\n",
        "\n",
        "A `DataLoader` loads data from a given `Dataset` into batches.\n"
      ]
    },
    {
      "cell_type": "code",
      "metadata": {
        "id": "hlhLk5t6MBX3"
      },
      "source": [
        "def prep_dataloader(path, mode, batch_size, n_jobs=0, target_only=False):\n",
        "    ''' Generates a dataset, then is put into a dataloader. '''\n",
        "    dataset = COVID19Dataset(path, mode=mode, target_only=target_only)  # Construct dataset\n",
        "    dataloader = DataLoader(\n",
        "        dataset, batch_size,\n",
        "        shuffle=(mode == 'train'), drop_last=False,\n",
        "        num_workers=n_jobs, pin_memory=True)                            # Construct dataloader\n",
        "    return dataloader"
      ],
      "execution_count": 34,
      "outputs": []
    },
    {
      "cell_type": "markdown",
      "metadata": {
        "id": "SGuycwR0MeQB"
      },
      "source": [
        "# **Deep Neural Network**\n",
        "\n",
        "`NeuralNet` is an `nn.Module` designed for regression.\n",
        "The DNN consists of 2 fully-connected layers with ReLU activation.\n",
        "This module also included a function `cal_loss` for calculating loss.\n"
      ]
    },
    {
      "cell_type": "code",
      "metadata": {
        "id": "49-uXYovOAI0"
      },
      "source": [
        "class NeuralNet(nn.Module):\n",
        "    ''' A simple fully-connected deep neural network '''\n",
        "    def __init__(self, input_dim):\n",
        "        super(NeuralNet, self).__init__()\n",
        "\n",
        "        # Define your neural network here\n",
        "        # TODO: How to modify this model to achieve better performance?\n",
        "        self.net = nn.Sequential(\n",
        "            nn.Linear(input_dim, 64),\n",
        "            nn.ReLU(),\n",
        "            nn.Linear(64, 1)\n",
        "        )\n",
        "\n",
        "        # Mean squared error loss\n",
        "        self.criterion = nn.MSELoss(reduction='mean')\n",
        "\n",
        "    def forward(self, x):\n",
        "        ''' Given input of size (batch_size x input_dim), compute output of the network '''\n",
        "        return self.net(x).squeeze(1)\n",
        "\n",
        "    def cal_loss(self, pred, target):\n",
        "        ''' Calculate loss '''\n",
        "        # TODO: you may implement L2 regularization here\n",
        "        \n",
        "        # l2_lambda = 0.01\n",
        "        # l2_reg = 0\n",
        "        # loss = 0\n",
        "        # for param in model.parameters():\n",
        "        #     l2_reg += torch.norm(param)\n",
        "        # loss += l2_lambda * l2_reg\n",
        "        \n",
        "        return self.criterion(pred, target)"
      ],
      "execution_count": 35,
      "outputs": []
    },
    {
      "cell_type": "markdown",
      "metadata": {
        "id": "DvFWVjZ5Nvga"
      },
      "source": [
        "# **Train/Dev/Test**"
      ]
    },
    {
      "cell_type": "markdown",
      "metadata": {
        "id": "MAM8QecJOyqn"
      },
      "source": [
        "## **Training**"
      ]
    },
    {
      "cell_type": "code",
      "metadata": {
        "id": "lOqcmYzMO7jB"
      },
      "source": [
        "def train(tr_set, dv_set, model, config, device):\n",
        "    ''' DNN training '''\n",
        "\n",
        "    n_epochs = config['n_epochs']  # Maximum number of epochs\n",
        "\n",
        "    # Setup optimizer\n",
        "    optimizer = getattr(torch.optim, config['optimizer'])(\n",
        "        model.parameters(), **config['optim_hparas'])\n",
        "\n",
        "    min_mse = 1000.\n",
        "    loss_record = {'train': [], 'dev': []}      # for recording training loss\n",
        "    early_stop_cnt = 0\n",
        "    epoch = 0\n",
        "    while epoch < n_epochs:\n",
        "        model.train()                           # set model to training mode\n",
        "        for x, y in tr_set:                     # iterate through the dataloader\n",
        "            optimizer.zero_grad()               # set gradient to zero\n",
        "            x, y = x.to(device), y.to(device)   # move data to device (cpu/cuda)\n",
        "            pred = model(x)                     # forward pass (compute output)\n",
        "            mse_loss = model.cal_loss(pred, y)  # compute loss\n",
        "            mse_loss.backward()                 # compute gradient (backpropagation)\n",
        "            optimizer.step()                    # update model with optimizer\n",
        "            loss_record['train'].append(mse_loss.detach().cpu().item())\n",
        "\n",
        "        # After each epoch, test your model on the validation (development) set.\n",
        "        dev_mse = dev(dv_set, model, device)\n",
        "        if dev_mse < min_mse:\n",
        "            # Save model if your model improved\n",
        "            min_mse = dev_mse\n",
        "            print('Saving model (epoch = {:4d}, loss = {:.4f})'\n",
        "                .format(epoch + 1, min_mse))\n",
        "            torch.save(model.state_dict(), config['save_path'])  # Save model to specified path\n",
        "            early_stop_cnt = 0\n",
        "        else:\n",
        "            early_stop_cnt += 1\n",
        "\n",
        "        epoch += 1\n",
        "        loss_record['dev'].append(dev_mse)\n",
        "        if early_stop_cnt > config['early_stop']:\n",
        "            # Stop training if your model stops improving for \"config['early_stop']\" epochs.\n",
        "            break\n",
        "\n",
        "    print('Finished training after {} epochs'.format(epoch))\n",
        "    return min_mse, loss_record"
      ],
      "execution_count": 36,
      "outputs": []
    },
    {
      "cell_type": "markdown",
      "metadata": {
        "id": "0hSd4Bn3O2PL"
      },
      "source": [
        "## **Validation**"
      ]
    },
    {
      "cell_type": "code",
      "metadata": {
        "id": "yrxrD3YsN3U2"
      },
      "source": [
        "def dev(dv_set, model, device):\n",
        "    model.eval()                                # set model to evalutation mode\n",
        "    total_loss = 0\n",
        "    for x, y in dv_set:                         # iterate through the dataloader\n",
        "        x, y = x.to(device), y.to(device)       # move data to device (cpu/cuda)\n",
        "        with torch.no_grad():                   # disable gradient calculation\n",
        "            pred = model(x)                     # forward pass (compute output)\n",
        "            mse_loss = model.cal_loss(pred, y)  # compute loss\n",
        "        total_loss += mse_loss.detach().cpu().item() * len(x)  # accumulate loss\n",
        "    total_loss = total_loss / len(dv_set.dataset)              # compute averaged loss\n",
        "\n",
        "    return total_loss"
      ],
      "execution_count": 37,
      "outputs": []
    },
    {
      "cell_type": "markdown",
      "metadata": {
        "id": "g0pdrhQAO41L"
      },
      "source": [
        "## **Testing**"
      ]
    },
    {
      "cell_type": "code",
      "metadata": {
        "id": "aSBMRFlYN5tB"
      },
      "source": [
        "def test(tt_set, model, device):\n",
        "    model.eval()                                # set model to evalutation mode\n",
        "    preds = []\n",
        "    for x in tt_set:                            # iterate through the dataloader\n",
        "        x = x.to(device)                        # move data to device (cpu/cuda)\n",
        "        with torch.no_grad():                   # disable gradient calculation\n",
        "            pred = model(x)                     # forward pass (compute output)\n",
        "            preds.append(pred.detach().cpu())   # collect prediction\n",
        "    preds = torch.cat(preds, dim=0).numpy()     # concatenate all predictions and convert to a numpy array\n",
        "    return preds"
      ],
      "execution_count": 38,
      "outputs": []
    },
    {
      "cell_type": "markdown",
      "metadata": {
        "id": "SvckkF5dvf0j"
      },
      "source": [
        "# **Setup Hyper-parameters**\n",
        "\n",
        "`config` contains hyper-parameters for training and the path to save your model."
      ]
    },
    {
      "cell_type": "code",
      "metadata": {
        "id": "NPXpdumwPjE7"
      },
      "source": [
        "device = get_device()                 # get the current available device ('cpu' or 'cuda')\n",
        "os.makedirs('models', exist_ok=True)  # The trained model will be saved to ./models/\n",
        "target_only = True                   # TODO: Using 40 states & 2 tested_positive features\n",
        "\n",
        "# TODO: How to tune these hyper-parameters to improve your model's performance?\n",
        "config = {\n",
        "    'n_epochs': 5000,                # maximum number of epochs 3000\n",
        "    'batch_size': 135,               # mini-batch size for dataloader 270 300 0.8107 400 0.8047\n",
        "    # 'optimizer': 'SGD',              # optimization algorithm (optimizer in torch.optim) 'SGD'\n",
        "    # 'optim_hparas': {                # hyper-parameters for the optimizer (depends on which optimizer you are using)\n",
        "    #     'lr': 0.001,                 # learning rate of SGD 0.001 Adam: 0.7945\n",
        "    #     'momentum': 0.9,\n",
        "    # },\n",
        "    'optimizer': 'Adam',              # optimization algorithm (optimizer in torch.optim) 'SGD'\n",
        "    'optim_hparas': {                # hyper-parameters for the optimizer (depends on which optimizer you are using)\n",
        "        'lr': 0.001,                 # learning rate of SGD 0.001 Adam: 0.7945\n",
        "        'betas': (0.9, 0.999),\n",
        "        'eps': 1e-08,\n",
        "        'weight_decay': 1e-02, \n",
        "        'amsgrad': False,\n",
        "    },\n",
        "    'early_stop': 10000,               # early stopping epochs (the number epochs since your model's last improvement) '200'\n",
        "    'save_path': 'models/model.pth'  # your model will be saved here\n",
        "}"
      ],
      "execution_count": 39,
      "outputs": []
    },
    {
      "cell_type": "markdown",
      "metadata": {
        "id": "6j1eOV3TOH-j"
      },
      "source": [
        "# **Load data and model**"
      ]
    },
    {
      "cell_type": "code",
      "metadata": {
        "id": "eNrYBMmePLKm"
      },
      "source": [
        "tr_set = prep_dataloader(tr_path, 'train', config['batch_size'], target_only=target_only)\n",
        "dv_set = prep_dataloader(tr_path, 'dev', config['batch_size'], target_only=target_only)\n",
        "tt_set = prep_dataloader(tt_path, 'test', config['batch_size'], target_only=target_only)"
      ],
      "execution_count": 40,
      "outputs": []
    },
    {
      "cell_type": "code",
      "metadata": {
        "id": "FHylSirLP9oh"
      },
      "source": [
        "model = NeuralNet(tr_set.dataset.dim).to(device)  # Construct model and move to device"
      ],
      "execution_count": 41,
      "outputs": []
    },
    {
      "cell_type": "markdown",
      "metadata": {
        "id": "sX2B_zgSOPTJ"
      },
      "source": [
        "# **Start Training!**"
      ]
    },
    {
      "cell_type": "code",
      "metadata": {
        "id": "GrEbUxazQAAZ",
        "colab": {
          "base_uri": "https://localhost:8080/"
        },
        "outputId": "beb0bc39-e671-4cc9-c0c4-57b97a67ea23"
      },
      "source": [
        "model_loss, model_loss_record = train(tr_set, dv_set, model, config, device)"
      ],
      "execution_count": 42,
      "outputs": [
        {
          "output_type": "stream",
          "text": [
            "Saving model (epoch =    1, loss = 27.9376)\n",
            "Saving model (epoch =    2, loss = 14.1581)\n",
            "Saving model (epoch =    3, loss = 8.5798)\n",
            "Saving model (epoch =    4, loss = 8.0468)\n",
            "Saving model (epoch =    5, loss = 7.4311)\n",
            "Saving model (epoch =    6, loss = 6.7817)\n",
            "Saving model (epoch =    7, loss = 6.0118)\n",
            "Saving model (epoch =    8, loss = 5.0705)\n",
            "Saving model (epoch =    9, loss = 3.9008)\n",
            "Saving model (epoch =   10, loss = 2.6306)\n",
            "Saving model (epoch =   11, loss = 1.7683)\n",
            "Saving model (epoch =   12, loss = 1.3336)\n",
            "Saving model (epoch =   13, loss = 1.1774)\n",
            "Saving model (epoch =   14, loss = 1.1390)\n",
            "Saving model (epoch =   15, loss = 1.1139)\n",
            "Saving model (epoch =   16, loss = 1.1123)\n",
            "Saving model (epoch =   17, loss = 1.1074)\n",
            "Saving model (epoch =   20, loss = 1.0910)\n",
            "Saving model (epoch =   22, loss = 1.0835)\n",
            "Saving model (epoch =   25, loss = 1.0768)\n",
            "Saving model (epoch =   28, loss = 1.0705)\n",
            "Saving model (epoch =   33, loss = 1.0616)\n",
            "Saving model (epoch =   35, loss = 1.0596)\n",
            "Saving model (epoch =   36, loss = 1.0530)\n",
            "Saving model (epoch =   37, loss = 1.0516)\n",
            "Saving model (epoch =   38, loss = 1.0480)\n",
            "Saving model (epoch =   40, loss = 1.0358)\n",
            "Saving model (epoch =   42, loss = 1.0346)\n",
            "Saving model (epoch =   45, loss = 1.0280)\n",
            "Saving model (epoch =   46, loss = 1.0237)\n",
            "Saving model (epoch =   49, loss = 1.0197)\n",
            "Saving model (epoch =   51, loss = 1.0163)\n",
            "Saving model (epoch =   52, loss = 1.0060)\n",
            "Saving model (epoch =   54, loss = 1.0036)\n",
            "Saving model (epoch =   55, loss = 0.9995)\n",
            "Saving model (epoch =   59, loss = 0.9896)\n",
            "Saving model (epoch =   62, loss = 0.9884)\n",
            "Saving model (epoch =   63, loss = 0.9798)\n",
            "Saving model (epoch =   66, loss = 0.9735)\n",
            "Saving model (epoch =   67, loss = 0.9714)\n",
            "Saving model (epoch =   70, loss = 0.9649)\n",
            "Saving model (epoch =   71, loss = 0.9644)\n",
            "Saving model (epoch =   72, loss = 0.9567)\n",
            "Saving model (epoch =   75, loss = 0.9525)\n",
            "Saving model (epoch =   77, loss = 0.9470)\n",
            "Saving model (epoch =   83, loss = 0.9447)\n",
            "Saving model (epoch =   84, loss = 0.9307)\n",
            "Saving model (epoch =   87, loss = 0.9212)\n",
            "Saving model (epoch =   88, loss = 0.9190)\n",
            "Saving model (epoch =   92, loss = 0.9178)\n",
            "Saving model (epoch =   96, loss = 0.9050)\n",
            "Saving model (epoch =  100, loss = 0.8947)\n",
            "Saving model (epoch =  101, loss = 0.8937)\n",
            "Saving model (epoch =  103, loss = 0.8860)\n",
            "Saving model (epoch =  104, loss = 0.8845)\n",
            "Saving model (epoch =  106, loss = 0.8809)\n",
            "Saving model (epoch =  109, loss = 0.8801)\n",
            "Saving model (epoch =  110, loss = 0.8790)\n",
            "Saving model (epoch =  111, loss = 0.8745)\n",
            "Saving model (epoch =  113, loss = 0.8707)\n",
            "Saving model (epoch =  115, loss = 0.8662)\n",
            "Saving model (epoch =  116, loss = 0.8625)\n",
            "Saving model (epoch =  122, loss = 0.8533)\n",
            "Saving model (epoch =  127, loss = 0.8478)\n",
            "Saving model (epoch =  130, loss = 0.8419)\n",
            "Saving model (epoch =  131, loss = 0.8398)\n",
            "Saving model (epoch =  132, loss = 0.8390)\n",
            "Saving model (epoch =  135, loss = 0.8385)\n",
            "Saving model (epoch =  136, loss = 0.8324)\n",
            "Saving model (epoch =  140, loss = 0.8278)\n",
            "Saving model (epoch =  141, loss = 0.8258)\n",
            "Saving model (epoch =  144, loss = 0.8223)\n",
            "Saving model (epoch =  148, loss = 0.8172)\n",
            "Saving model (epoch =  154, loss = 0.8151)\n",
            "Saving model (epoch =  163, loss = 0.8054)\n",
            "Saving model (epoch =  164, loss = 0.8046)\n",
            "Saving model (epoch =  175, loss = 0.8005)\n",
            "Saving model (epoch =  179, loss = 0.8003)\n",
            "Saving model (epoch =  180, loss = 0.7934)\n",
            "Saving model (epoch =  190, loss = 0.7926)\n",
            "Saving model (epoch =  191, loss = 0.7916)\n",
            "Saving model (epoch =  195, loss = 0.7886)\n",
            "Saving model (epoch =  199, loss = 0.7870)\n",
            "Saving model (epoch =  200, loss = 0.7869)\n",
            "Saving model (epoch =  202, loss = 0.7865)\n",
            "Saving model (epoch =  203, loss = 0.7834)\n",
            "Saving model (epoch =  212, loss = 0.7821)\n",
            "Saving model (epoch =  224, loss = 0.7817)\n",
            "Saving model (epoch =  225, loss = 0.7799)\n",
            "Saving model (epoch =  227, loss = 0.7798)\n",
            "Saving model (epoch =  230, loss = 0.7789)\n",
            "Saving model (epoch =  237, loss = 0.7784)\n",
            "Saving model (epoch =  238, loss = 0.7762)\n",
            "Saving model (epoch =  251, loss = 0.7760)\n",
            "Saving model (epoch =  257, loss = 0.7725)\n",
            "Saving model (epoch =  274, loss = 0.7722)\n",
            "Saving model (epoch =  275, loss = 0.7721)\n",
            "Saving model (epoch =  276, loss = 0.7717)\n",
            "Saving model (epoch =  284, loss = 0.7713)\n",
            "Saving model (epoch =  292, loss = 0.7703)\n",
            "Saving model (epoch =  299, loss = 0.7684)\n",
            "Saving model (epoch =  313, loss = 0.7667)\n",
            "Saving model (epoch =  384, loss = 0.7666)\n",
            "Saving model (epoch =  386, loss = 0.7661)\n",
            "Saving model (epoch =  399, loss = 0.7654)\n",
            "Saving model (epoch =  421, loss = 0.7652)\n",
            "Saving model (epoch =  429, loss = 0.7636)\n",
            "Saving model (epoch =  438, loss = 0.7617)\n",
            "Saving model (epoch =  491, loss = 0.7612)\n",
            "Saving model (epoch =  503, loss = 0.7605)\n",
            "Saving model (epoch =  504, loss = 0.7574)\n",
            "Saving model (epoch =  516, loss = 0.7553)\n",
            "Saving model (epoch =  542, loss = 0.7535)\n",
            "Saving model (epoch =  649, loss = 0.7532)\n",
            "Saving model (epoch =  662, loss = 0.7530)\n",
            "Saving model (epoch =  679, loss = 0.7524)\n",
            "Saving model (epoch =  707, loss = 0.7524)\n",
            "Saving model (epoch =  717, loss = 0.7518)\n",
            "Saving model (epoch =  816, loss = 0.7512)\n",
            "Saving model (epoch =  830, loss = 0.7499)\n",
            "Saving model (epoch =  851, loss = 0.7495)\n",
            "Saving model (epoch =  911, loss = 0.7487)\n",
            "Saving model (epoch = 1055, loss = 0.7485)\n",
            "Saving model (epoch = 1100, loss = 0.7484)\n",
            "Saving model (epoch = 1116, loss = 0.7473)\n",
            "Saving model (epoch = 1127, loss = 0.7463)\n",
            "Saving model (epoch = 1181, loss = 0.7458)\n",
            "Saving model (epoch = 1190, loss = 0.7453)\n",
            "Saving model (epoch = 1216, loss = 0.7448)\n",
            "Saving model (epoch = 1243, loss = 0.7423)\n",
            "Saving model (epoch = 1473, loss = 0.7419)\n",
            "Saving model (epoch = 1499, loss = 0.7414)\n",
            "Saving model (epoch = 1533, loss = 0.7414)\n",
            "Saving model (epoch = 1592, loss = 0.7413)\n",
            "Saving model (epoch = 1636, loss = 0.7408)\n",
            "Saving model (epoch = 1667, loss = 0.7398)\n",
            "Saving model (epoch = 1695, loss = 0.7394)\n",
            "Saving model (epoch = 1763, loss = 0.7392)\n",
            "Saving model (epoch = 1834, loss = 0.7390)\n",
            "Saving model (epoch = 1850, loss = 0.7379)\n",
            "Saving model (epoch = 1987, loss = 0.7376)\n",
            "Saving model (epoch = 2060, loss = 0.7374)\n",
            "Saving model (epoch = 2102, loss = 0.7351)\n",
            "Saving model (epoch = 2926, loss = 0.7336)\n",
            "Saving model (epoch = 3894, loss = 0.7332)\n",
            "Saving model (epoch = 4244, loss = 0.7329)\n",
            "Saving model (epoch = 4250, loss = 0.7328)\n",
            "Saving model (epoch = 4398, loss = 0.7316)\n",
            "Finished training after 5000 epochs\n"
          ],
          "name": "stdout"
        }
      ]
    },
    {
      "cell_type": "code",
      "metadata": {
        "id": "hsNO9nnXQBvP",
        "colab": {
          "base_uri": "https://localhost:8080/",
          "height": 295
        },
        "outputId": "8cc0fe0e-667b-442d-c2b9-993cdf230d83"
      },
      "source": [
        "plot_learning_curve(model_loss_record, title='deep model')"
      ],
      "execution_count": 43,
      "outputs": [
        {
          "output_type": "display_data",
          "data": {
            "image/png": "[encoded data removed]",
            "text/plain": [
              "<Figure size 432x288 with 1 Axes>"
            ]
          },
          "metadata": {
            "tags": [],
            "needs_background": "light"
          }
        }
      ]
    },
    {
      "cell_type": "code",
      "metadata": {
        "id": "3iZTVn5WQFpX",
        "colab": {
          "base_uri": "https://localhost:8080/",
          "height": 367
        },
        "outputId": "24301113-eb53-482e-fa45-7f9303949dd3"
      },
      "source": [
        "del model\n",
        "model = NeuralNet(tr_set.dataset.dim).to(device)\n",
        "ckpt = torch.load(config['save_path'], map_location='cpu')  # Load your best model\n",
        "model.load_state_dict(ckpt)\n",
        "plot_pred(dv_set, model, device)  # Show prediction on the validation set"
      ],
      "execution_count": 44,
      "outputs": [
        {
          "output_type": "display_data",
          "data": {
            "image/png": "[encoded data removed]",
            "text/plain": [
              "<Figure size 360x360 with 1 Axes>"
            ]
          },
          "metadata": {
            "tags": [],
            "needs_background": "light"
          }
        },
        {
          "output_type": "stream",
          "text": [
            "0.8553478\n"
          ],
          "name": "stdout"
        }
      ]
    },
    {
      "cell_type": "markdown",
      "metadata": {
        "id": "aQikz3IPiyPf"
      },
      "source": [
        "# **Testing**\n",
        "The predictions of your model on testing set will be stored at `pred.csv`."
      ]
    },
    {
      "cell_type": "code",
      "metadata": {
        "id": "O8cTuQjQQOon",
        "colab": {
          "base_uri": "https://localhost:8080/"
        },
        "outputId": "2b27648f-c5db-4b15-fe4a-72fc0520562a"
      },
      "source": [
        "def save_pred(preds, file):\n",
        "    ''' Save predictions to specified file '''\n",
        "    print('Saving results to {}'.format(file))\n",
        "    with open(file, 'w') as fp:\n",
        "        writer = csv.writer(fp)\n",
        "        writer.writerow(['id', 'tested_positive'])\n",
        "        for i, p in enumerate(preds):\n",
        "            writer.writerow([i, p])\n",
        "\n",
        "preds = test(tt_set, model, device)  # predict COVID-19 cases with your model\n",
        "save_pred(preds, 'pred.csv')         # save prediction file to pred.csv"
      ],
      "execution_count": 45,
      "outputs": [
        {
          "output_type": "stream",
          "text": [
            "Saving results to pred.csv\n"
          ],
          "name": "stdout"
        }
      ]
    },
    {
      "cell_type": "markdown",
      "metadata": {
        "id": "nfrVxqJanGpE"
      },
      "source": [
        "# **Hints**\n",
        "\n",
        "## **Simple Baseline**\n",
        "* Run sample code\n",
        "\n",
        "## **Medium Baseline**\n",
        "* Feature selection: 40 states + 2 `tested_positive` (`TODO` in dataset)\n",
        "\n",
        "## **Strong Baseline**\n",
        "* Feature selection (what other features are useful?)\n",
        "* DNN architecture (layers? dimension? activation function?)\n",
        "* Training (mini-batch? optimizer? learning rate?)\n",
        "* L2 regularization\n",
        "* There are some mistakes in the sample code, can you find them?"
      ]
    },
    {
      "cell_type": "markdown",
      "metadata": {
        "id": "9tmCwXgpot3t"
      },
      "source": [
        "# **Reference**\n",
        "This code is completely written by Heng-Jui Chang @ NTUEE.  \n",
        "Copying or reusing this code is required to specify the original author. \n",
        "\n",
        "E.g.  \n",
        "Source: Heng-Jui Chang @ NTUEE (https://github.com/ga642381/ML2021-Spring/blob/main/HW01/HW01.ipynb)\n"
      ]
    }
  ]
}